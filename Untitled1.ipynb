{
  "nbformat": 4,
  "nbformat_minor": 0,
  "metadata": {
    "colab": {
      "provenance": [],
      "authorship_tag": "ABX9TyNgYv0Vv34wrbDNeD+MW1HK",
      "include_colab_link": true
    },
    "kernelspec": {
      "name": "python3",
      "display_name": "Python 3"
    },
    "language_info": {
      "name": "python"
    }
  },
  "cells": [
    {
      "cell_type": "markdown",
      "metadata": {
        "id": "view-in-github",
        "colab_type": "text"
      },
      "source": [
        "<a href=\"https://colab.research.google.com/github/Rakeshkhora/Rakeshkhora/blob/main/Untitled1.ipynb\" target=\"_parent\"><img src=\"https://colab.research.google.com/assets/colab-badge.svg\" alt=\"Open In Colab\"/></a>"
      ]
    },
    {
      "cell_type": "code",
      "execution_count": null,
      "metadata": {
        "colab": {
          "base_uri": "https://localhost:8080/"
        },
        "id": "2dUY36gO_ix8",
        "outputId": "fea848a6-b01c-451b-f1c0-e198554adbee"
      },
      "outputs": [
        {
          "output_type": "stream",
          "name": "stdout",
          "text": [
            "Enter a number: 8\n",
            "The number 8 is Even.\n"
          ]
        }
      ],
      "source": [
        "# Function to check if the number is even or odd\n",
        "def check_even_odd(number):\n",
        "    if number % 2 == 0:\n",
        "        return \"Even\"\n",
        "    else:\n",
        "        return \"Odd\"\n",
        "\n",
        "# Taking input from the user\n",
        "num = int(input(\"Enter a number: \"))\n",
        "\n",
        "# Checking if the number is even or odd\n",
        "result = check_even_odd(num)\n",
        "print(f\"The number {num} is {result}.\")\n"
      ]
    },
    {
      "cell_type": "code",
      "source": [
        "# Function to reverse a string without using built-in functions\n",
        "def reverse_string(input_string):\n",
        "    reversed_string = \"\"\n",
        "    # Loop through the input string in reverse order\n",
        "    for char in input_string:\n",
        "        reversed_string = char + reversed_string\n",
        "    return reversed_string\n",
        "\n",
        "# Test the function\n",
        "input_str = input(\"Enter a string: \")\n",
        "print(\"Reversed string:\", reverse_string(input_str))\n"
      ],
      "metadata": {
        "colab": {
          "base_uri": "https://localhost:8080/"
        },
        "id": "NNQ2fEpQA0Pi",
        "outputId": "e423f83d-1794-491f-db0d-15fd31a028d0"
      },
      "execution_count": null,
      "outputs": [
        {
          "output_type": "stream",
          "name": "stdout",
          "text": [
            "Enter a string: ram\n",
            "Reversed string: mar\n"
          ]
        }
      ]
    },
    {
      "cell_type": "code",
      "source": [
        "# Function to find the largest number in the list\n",
        "def find_largest_number(numbers):\n",
        "    largest = numbers[0]  # Assume the first number is the largest initially\n",
        "    for number in numbers:\n",
        "        if number > largest:\n",
        "            largest = number  # Update if a larger number is found\n",
        "    return largest\n",
        "\n",
        "# Test the function\n",
        "numbers = [int(x) for x in input(\"Enter numbers separated by spaces: \").split()]\n",
        "print(\"The largest number is:\", find_largest_number(numbers))\n"
      ],
      "metadata": {
        "colab": {
          "base_uri": "https://localhost:8080/"
        },
        "id": "Z4P3fWckCQXv",
        "outputId": "c03c9593-0de6-474a-ea3d-dff5d8515bc0"
      },
      "execution_count": null,
      "outputs": [
        {
          "output_type": "stream",
          "name": "stdout",
          "text": [
            "Enter numbers separated by spaces: 357\n",
            "The largest number is: 357\n"
          ]
        }
      ]
    },
    {
      "cell_type": "code",
      "source": [
        "# Function to check if a string is a palindrome\n",
        "def is_palindrome(input_string):\n",
        "    # Remove spaces and convert to lowercase for case-insensitive comparison\n",
        "    input_string = input_string.replace(\" \", \"\").lower()\n",
        "\n",
        "    # Check if the string is equal to its reverse\n",
        "    return input_string == input_string[::-1]\n",
        "\n",
        "# Test the function\n",
        "input_str = input(\"Enter a string: \")\n",
        "if is_palindrome(input_str):\n",
        "    print(f\"'{input_str}' is a palindrome.\")\n",
        "else:\n",
        "    print(f\"'{input_str}' is not a palindrome.\")\n"
      ],
      "metadata": {
        "colab": {
          "base_uri": "https://localhost:8080/"
        },
        "id": "Z4rhXYG0CVbd",
        "outputId": "ed9276d5-125d-4046-b1d3-71e55e4dfb08"
      },
      "execution_count": null,
      "outputs": [
        {
          "output_type": "stream",
          "name": "stdout",
          "text": [
            "Enter a string: ram\n",
            "'ram' is not a palindrome.\n"
          ]
        }
      ]
    },
    {
      "cell_type": "code",
      "source": [
        "# Function to count occurrences of each character in a string\n",
        "def count_characters(input_string):\n",
        "    char_count = {}\n",
        "\n",
        "    # Loop through each character in the string\n",
        "    for char in input_string:\n",
        "        # If character is already in the dictionary, increment its count\n",
        "        if char in char_count:\n",
        "            char_count[char] += 1\n",
        "        else:\n",
        "            # If character is not in the dictionary, add it with count 1\n",
        "            char_count[char] = 1\n",
        "\n",
        "    return char_count\n",
        "\n",
        "# Test the function\n",
        "input_str = input(\"Enter a string: \")\n",
        "result = count_characters(input_str)\n",
        "\n",
        "# Print the occurrences of each character\n",
        "print(\"Character occurrences:\")\n",
        "for char, count in result.items():\n",
        "    print(f\"'{char}': {count}\")\n"
      ],
      "metadata": {
        "colab": {
          "base_uri": "https://localhost:8080/"
        },
        "id": "eTrQXa4KCvcR",
        "outputId": "07ed1503-71b5-437c-a41e-8a2cdd2a8e79"
      },
      "execution_count": null,
      "outputs": [
        {
          "output_type": "stream",
          "name": "stdout",
          "text": [
            "Enter a string: hello\n",
            "Character occurrences:\n",
            "'h': 1\n",
            "'e': 1\n",
            "'l': 2\n",
            "'o': 1\n"
          ]
        }
      ]
    },
    {
      "cell_type": "markdown",
      "source": [
        ". Class:\n",
        "A class is like a blueprint or template for creating objects. It defines the properties (attributes) and behaviors (methods) that the objects created from the class will have.\n",
        "A class itself does not hold any data; it only defines the structure and functions that objects will have.\n",
        "A class provides the structure for objects, but it is not an object itself.\n"
      ],
      "metadata": {
        "id": "SOTlF6GmDAzd"
      }
    },
    {
      "cell_type": "code",
      "source": [
        "class Dog:\n",
        "    # Constructor to initialize attributes\n",
        "    def __init__(self, name, age):\n",
        "        self.name = name  # Attribute\n",
        "        self.age = age    # Attribute\n",
        "\n",
        "    # Method to display dog information\n",
        "    def speak(self):\n",
        "        return f\"{self.name} says woof!\"\n"
      ],
      "metadata": {
        "id": "oBCX3MrTDVf1"
      },
      "execution_count": null,
      "outputs": []
    },
    {
      "cell_type": "markdown",
      "source": [
        "In this example, Dog is a class, and it defines the structure for creating dog objects with attributes like name and age, and a method speak()."
      ],
      "metadata": {
        "id": "9zBj7mmYD0wF"
      }
    },
    {
      "cell_type": "markdown",
      "source": [],
      "metadata": {
        "id": "EE_tIeoLDYVX"
      }
    },
    {
      "cell_type": "code",
      "source": [],
      "metadata": {
        "id": "uh6ckJmKDdXu"
      },
      "execution_count": null,
      "outputs": []
    },
    {
      "cell_type": "code",
      "source": [
        "2. Object:\n",
        "An object is an instance of a class. It is created using the class and contains real data (values).\n",
        "Objects have the properties and behaviors defined by the class, but with their own specific data.\n"
      ],
      "metadata": {
        "id": "1_i-E9JRDX9I"
      },
      "execution_count": null,
      "outputs": []
    },
    {
      "cell_type": "code",
      "source": [
        "# Creating an object (instance) of the Dog class\n",
        "dog1 = Dog(\"Buddy\", 3)\n",
        "\n",
        "# Accessing object attributes and methods\n",
        "print(dog1.name)   # Output: Buddy\n",
        "print(dog1.age)    # Output: 3\n",
        "print(dog1.speak()) # Output: Buddy says woof!\n"
      ],
      "metadata": {
        "id": "yDBHJpvCDepP"
      },
      "execution_count": null,
      "outputs": []
    },
    {
      "cell_type": "markdown",
      "source": [
        "In this example, dog1 is an object of the Dog class, and it has its own specific name and age attributes.\n",
        "\n",
        "Summary of Differences:\n",
        "Class:\n",
        "Defines the structure, behavior, and properties of objects.\n",
        "Blueprint or template for creating objects.\n",
        "No actual data or behavior until an object is created.\n",
        "Object:\n",
        "An instance of a class.\n",
        "Contains real data and follows the blueprint provided by the class.\n",
        "Interacts with the methods and attributes defined in the class."
      ],
      "metadata": {
        "id": "LvbC6rVlDn7x"
      }
    },
    {
      "cell_type": "markdown",
      "source": [],
      "metadata": {
        "id": "CBLTw0zkDyu9"
      }
    },
    {
      "cell_type": "markdown",
      "source": [],
      "metadata": {
        "id": "UvlwGbaqESye"
      }
    },
    {
      "cell_type": "markdown",
      "source": [
        "Inheritance in Python:\n",
        "Inheritance is a key concept in Object-Oriented Programming (OOP) that allows a class (called the child class or subclass) to inherit attributes and methods from another class (called the parent class or superclass). This promotes code reuse and allows for the creation of more specific classes based on general ones.\n",
        "\n",
        "With inheritance, the child class can:\n",
        "\n",
        "Access methods and attributes of the parent class.\n",
        "Override (modify) methods of the parent class to suit its needs.\n",
        "Add new methods and attributes specific to the child class.\n",
        "Types of Inheritance:\n",
        "Single Inheritance: A child class inherits from one parent class.\n",
        "Multiple Inheritance: A child class inherits from more than one parent class.\n",
        "Multilevel Inheritance: A class inherits from another class which is already a subclass of a parent class.\n",
        "Hierarchical Inheritance: Multiple child classes inherit from a single parent class.\n",
        "Example: Single Inheritance\n",
        "In this example, we will demonstrate single inheritance, where a child class inherits from a single parent class."
      ],
      "metadata": {
        "id": "ffJWczcBEa6A"
      }
    },
    {
      "cell_type": "code",
      "source": [
        "# Parent class (Superclass)\n",
        "class Animal:\n",
        "    def __init__(self, name, species):\n",
        "        self.name = name\n",
        "        self.species = species\n",
        "\n",
        "    def speak(self):\n",
        "        return f\"{self.name} makes a sound\"\n",
        "\n",
        "# Child class (Subclass)\n",
        "class Dog(Animal):\n",
        "    def __init__(self, name, breed):\n",
        "        # Calling the parent class constructor using super()\n",
        "        super().__init__(name, \"Dog\")  # Inheriting the 'name' and 'species' from Animal class\n",
        "        self.breed = breed  # Adding a new attribute specific to the Dog class\n",
        "\n",
        "    # Overriding the 'speak' method to provide a dog-specific behavior\n",
        "    def speak(self):\n",
        "        return f\"{self.name} says woof!\"\n",
        "\n",
        "# Creating an instance of the Dog class (child class)\n",
        "dog1 = Dog(\"Buddy\", \"Golden Retriever\")\n",
        "\n",
        "# Accessing inherited method and new method\n",
        "print(dog1.speak())  # Output: Buddy says woof!\n",
        "print(f\"{dog1.name} is a {dog1.species} and a {dog1.breed}.\")\n"
      ],
      "metadata": {
        "id": "MEsegkSYEcW-"
      },
      "execution_count": null,
      "outputs": []
    },
    {
      "cell_type": "markdown",
      "source": [],
      "metadata": {
        "id": "wGrmED5eEot3"
      }
    },
    {
      "cell_type": "markdown",
      "source": [
        "Parent Class (Animal): Defines the general attributes and methods that are common to all animals, such as name, species, and the speak() method.\n",
        "Child Class (Dog): Inherits from the Animal class, so it gets the name and species attributes and the speak() method. The Dog class also adds its own attribute breed and overrides the speak() method to provide a behavior specific to dogs.\n",
        "super(): The super() function is used to call the constructor (__init__()) of the parent class from the child class. This allows the child class to inherit the initialization behavior from the parent class and also add its own specific attributes or methods.\n"
      ],
      "metadata": {
        "id": "tTvpK-XDEt41"
      }
    },
    {
      "cell_type": "markdown",
      "source": [
        "Method overriding is a concept in object-oriented programming where a subclass (child class) provides a specific implementation of a method that is already defined in its parent class (superclass). The method in the child class overrides the method in the parent class, allowing the child class to provide a more specific or modified version of that method.\n",
        "\n",
        "In Python, method overriding happens when a method in a subclass has the same name, parameters, and signature as a method in the parent class, but with different behavior.\n",
        "\n"
      ],
      "metadata": {
        "id": "FHt7v10xFGNW"
      }
    },
    {
      "cell_type": "code",
      "source": [
        "# Parent class (Superclass)\n",
        "class Animal:\n",
        "    def speak(self):\n",
        "        return \"Some generic sound\"\n",
        "\n",
        "# Child class (Subclass)\n",
        "class Dog(Animal):\n",
        "    def speak(self):\n",
        "        return \"Woof!\"\n",
        "\n",
        "# Another Child class (Subclass)\n",
        "class Cat(Animal):\n",
        "    def speak(self):\n",
        "        return \"Meow!\"\n",
        "\n",
        "# Creating instances of Dog and Cat\n",
        "dog = Dog()\n",
        "cat = Cat()\n",
        "\n",
        "# Calling the overridden methods\n",
        "print(dog.speak())  # Output: Woof!\n",
        "print(cat.speak())  # Output: Meow!\n"
      ],
      "metadata": {
        "colab": {
          "base_uri": "https://localhost:8080/"
        },
        "id": "wBgIc4t3FNv6",
        "outputId": "194c96e3-b7da-4d54-bc08-61e6594044f5"
      },
      "execution_count": null,
      "outputs": [
        {
          "output_type": "stream",
          "name": "stdout",
          "text": [
            "Woof!\n",
            "Meow!\n"
          ]
        }
      ]
    },
    {
      "cell_type": "markdown",
      "source": [
        "Parent Class (Animal): The speak() method in the Animal class provides a generic implementation, returning \"Some generic sound\".\n",
        "Child Classes (Dog, Cat): Both Dog and Cat classes override the speak() method to provide their own specific implementations.\n",
        "Dog returns \"Woof!\".\n",
        "Cat returns \"Meow!\"."
      ],
      "metadata": {
        "id": "5y8Q0XuVFR7c"
      }
    },
    {
      "cell_type": "markdown",
      "source": [
        "An instance method is the most common type of method. It operates on instances (objects) of the class and has access to the instance itself through the self parameter.\n",
        "It can modify the object’s state (attributes) and interact with other instance methods.\n",
        "Instance methods must have at least one argument, which is self (the instance itself), allowing them to access and modify the object's attributes and other instance methods.\n"
      ],
      "metadata": {
        "id": "ttZZBm4UF2aj"
      }
    },
    {
      "cell_type": "code",
      "source": [
        "class Dog:\n",
        "    def __init__(self, name, age):\n",
        "        self.name = name\n",
        "        self.age = age\n",
        "\n",
        "    def speak(self):\n",
        "        return f\"{self.name} says woof!\"\n"
      ],
      "metadata": {
        "id": "HEmq98EPF9xl"
      },
      "execution_count": null,
      "outputs": []
    },
    {
      "cell_type": "markdown",
      "source": [],
      "metadata": {
        "id": "N5A4V7S4F_yx"
      }
    },
    {
      "cell_type": "markdown",
      "source": [
        "A class method is a method that is bound to the class, not the instance. It takes a reference to the class as its first argument (typically named cls), not the instance (self).\n",
        "Class methods can be called on the class itself or on instances of the class.\n",
        "They are commonly used for factory methods or methods that need to operate on class-level data, i.e., data shared across all instances of the class (class attributes)."
      ],
      "metadata": {
        "id": "b2W4awJsGD1Y"
      }
    },
    {
      "cell_type": "code",
      "source": [
        "class Dog:\n",
        "    species = \"Canine\"  # Class attribute\n",
        "\n",
        "    def __init__(self, name, age):\n",
        "        self.name = name\n",
        "        self.age = age\n",
        "\n",
        "    @classmethod\n",
        "    def get_species(cls):\n",
        "        return cls.species\n"
      ],
      "metadata": {
        "id": "9MhwabciGE7b"
      },
      "execution_count": null,
      "outputs": []
    },
    {
      "cell_type": "markdown",
      "source": [],
      "metadata": {
        "id": "UTvfItQyGIHj"
      }
    },
    {
      "cell_type": "markdown",
      "source": [
        "A static method does not take self or cls as the first argument. It behaves like a regular function, but it belongs to the class’s namespace.\n",
        "Static methods are used when you don't need access to the instance or class itself. They don't modify object or class state.\n",
        "They are typically used for utility functions that are related to the class but don't need to access or modify instance or class-level data."
      ],
      "metadata": {
        "id": "eBOCQAPsGLLr"
      }
    },
    {
      "cell_type": "code",
      "source": [
        "class Dog:\n",
        "    @staticmethod\n",
        "    def bark():\n",
        "        return \"Woof!\"\n"
      ],
      "metadata": {
        "id": "bPG0gaEUGSvR"
      },
      "execution_count": null,
      "outputs": []
    },
    {
      "cell_type": "markdown",
      "source": [
        "Encapsulation is one of the fundamental principles of Object-Oriented Programming (OOP). It is the practice of restricting access to certain details of an object's internal state and providing controlled access to that state using methods (getters and setters). The main goal of encapsulation is to safeguard an object's data and make the object's behavior more predictable and maintainable.\n",
        "\n",
        "In Python, encapsulation is achieved by defining class attributes and methods in a way that they cannot be accessed directly from outside the class, and instead, access is controlled through methods."
      ],
      "metadata": {
        "id": "E3EGBeNrGsna"
      }
    },
    {
      "cell_type": "markdown",
      "source": [
        "Significance of Encapsulation:\n",
        "Data Hiding: Encapsulation hides the internal state and only exposes necessary parts of the object, preventing unauthorized access to the internal details.\n",
        "Code Maintenance: Since access to attributes is controlled, you can modify internal implementation without affecting external code that uses the class.\n",
        "Data Integrity: You can add validation in setter methods to ensure that invalid data is not assigned to an object’s attributes.\n",
        "Abstraction: Encapsulation provides a clear separation between what an object does and how it does it."
      ],
      "metadata": {
        "id": "BeZ-S2F3GtqH"
      }
    },
    {
      "cell_type": "code",
      "source": [
        "class BankAccount:\n",
        "    def __init__(self, owner, balance):\n",
        "        self.owner = owner  # Public attribute\n",
        "        self.__balance = balance  # Private attribute\n",
        "\n",
        "    # Getter method for balance\n",
        "    def get_balance(self):\n",
        "        return self.__balance\n",
        "\n",
        "    # Setter method for balance with validation\n",
        "    def set_balance(self, amount):\n",
        "        if amount >= 0:\n",
        "            self.__balance = amount\n",
        "        else:\n",
        "            print(\"Invalid balance. Balance cannot be negative.\")\n",
        "\n",
        "    # Method to deposit money\n",
        "    def deposit(self, amount):\n",
        "        if amount > 0:\n",
        "            self.__balance += amount\n",
        "        else:\n",
        "            print(\"Invalid deposit amount.\")\n",
        "\n",
        "    # Method to withdraw money\n",
        "    def withdraw(self, amount):\n",
        "        if 0 < amount <= self.__balance:\n",
        "            self.__balance -= amount\n",
        "        else:\n",
        "            print(\"Insufficient funds or invalid withdrawal amount.\")\n",
        "\n",
        "    # Display account info\n",
        "    def display_info(self):\n",
        "        return f\"Owner: {self.owner}, Balance: ${self.get_balance()}\"\n",
        "\n",
        "# Creating an instance of BankAccount\n",
        "account = BankAccount(\"John Doe\", 1000)\n",
        "\n",
        "# Accessing public attribute\n",
        "print(account.owner)  # Output: John Doe\n",
        "\n",
        "# Accessing private attribute directly will raise an error\n",
        "# print(account.__balance)  # This will raise an AttributeError\n",
        "\n",
        "# Using getter method to access private attribute\n",
        "print(account.get_balance())  # Output: 1000\n",
        "\n",
        "# Using setter method to modify private attribute\n",
        "account.set_balance(1500)\n",
        "print(account.get_balance())  # Output: 1500\n",
        "\n",
        "# Attempting invalid setter call\n",
        "account.set_balance(-500)  # Output: Invalid balance. Balance cannot be negative.\n",
        "\n",
        "# Using deposit and withdraw methods\n",
        "account.deposit(500)\n",
        "print(account.get_balance())  # Output: 2000\n",
        "\n",
        "account.withdraw(300)\n",
        "print(account.get_balance())  # Output: 1700\n",
        "\n",
        "# Trying to withdraw more than available\n",
        "account.withdraw(2000)  # Output: Insufficient funds or invalid withdrawal amount.\n",
        "\n",
        "# Displaying account info\n",
        "print(account.display_info())  # Output: Owner: John Doe, Balance: $1700\n"
      ],
      "metadata": {
        "colab": {
          "base_uri": "https://localhost:8080/"
        },
        "id": "fqnf57JsGxv2",
        "outputId": "e63465bf-6a19-46a7-a839-729e488cd4d2"
      },
      "execution_count": null,
      "outputs": [
        {
          "output_type": "stream",
          "name": "stdout",
          "text": [
            "John Doe\n",
            "1000\n",
            "1500\n",
            "Invalid balance. Balance cannot be negative.\n",
            "2000\n",
            "1700\n",
            "Insufficient funds or invalid withdrawal amount.\n",
            "Owner: John Doe, Balance: $1700\n"
          ]
        }
      ]
    }
  ]
}